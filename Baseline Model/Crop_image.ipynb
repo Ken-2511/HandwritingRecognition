{
 "cells": [
  {
   "cell_type": "markdown",
   "metadata": {},
   "source": [
    "# 把框选出的单词单独保存出来"
   ]
  },
  {
   "cell_type": "code",
   "execution_count": 1,
   "metadata": {},
   "outputs": [],
   "source": [
    "import cv2\n",
    "import os\n",
    "import numpy as np"
   ]
  },
  {
   "cell_type": "code",
   "execution_count": 7,
   "metadata": {},
   "outputs": [],
   "source": [
    "def extract_red_boxes(image):\n",
    "    # Convert the image to the HSV color space\n",
    "    hsv = cv2.cvtColor(image, cv2.COLOR_BGR2HSV)\n",
    "\n",
    "    # Define the lower and upper bounds for the red color in the HSV space\n",
    "    lower_red1 = np.array([0, 70, 50])\n",
    "    upper_red1 = np.array([10, 255, 255])\n",
    "    lower_red2 = np.array([170, 70, 50])\n",
    "    upper_red2 = np.array([180, 255, 255])\n",
    "\n",
    "    # Create masks for the red color\n",
    "    mask1 = cv2.inRange(hsv, lower_red1, upper_red1)\n",
    "    mask2 = cv2.inRange(hsv, lower_red2, upper_red2)\n",
    "    mask = cv2.bitwise_or(mask1, mask2)\n",
    "\n",
    "    # Find contours in the mask\n",
    "    contours, _ = cv2.findContours(mask, cv2.RETR_EXTERNAL, cv2.CHAIN_APPROX_SIMPLE)\n",
    "    return contours, mask\n",
    "\n",
    "def resize_image(image, size=(128, 128)):\n",
    "    return cv2.resize(image, size)\n",
    "\n",
    "def crop_words(input_folder, crop_folder):\n",
    "    if not os.path.exists(crop_folder):\n",
    "        os.makedirs(crop_folder)\n",
    "\n",
    "    image_files = [f for f in os.listdir(input_folder) if f.endswith(('.png', '.jpg', '.jpeg'))]\n",
    "    \n",
    "    for img_file in image_files:\n",
    "        img_path = os.path.join(input_folder, img_file)\n",
    "        image = cv2.imread(img_path)\n",
    "        \n",
    "        contours, _ = extract_red_boxes(image)\n",
    "        \n",
    "        for i, cnt in enumerate(contours):\n",
    "            x, y, w, h = cv2.boundingRect(cnt)\n",
    "            word_crop = image[y:y+h, x:x+w]\n",
    "            \n",
    "            crop_path = os.path.join(crop_folder, f\"{os.path.splitext(img_file)[0]}_word_{i}.png\")\n",
    "            cv2.imwrite(crop_path, word_crop)\n",
    "\n",
    "\n",
    "def resize_and_clean_words(crop_folder):\n",
    "    if not os.path.exists(crop_folder):\n",
    "        raise ValueError(f\"The folder '{crop_folder}' does not exist.\")\n",
    "\n",
    "    image_files = [f for f in os.listdir(crop_folder) if f.endswith(('.png', '.jpg', '.jpeg'))]\n",
    "    \n",
    "    for img_file in image_files:\n",
    "        img_path = os.path.join(crop_folder, img_file)\n",
    "        image = cv2.imread(img_path)\n",
    "        \n",
    "        # Resize the image\n",
    "        resized_image = resize_image(image)\n",
    "        \n",
    "        # Save the resized image (overwrite the original cropped image)\n",
    "        cv2.imwrite(img_path, resized_image)\n"
   ]
  },
  {
   "cell_type": "code",
   "execution_count": 10,
   "metadata": {},
   "outputs": [],
   "source": [
    "#CVL\n",
    "input_folder = \"/root/autodl-tmp/APS360_Project/Machine_Learning_Output/output/CVL\"\n",
    "crop_folder = \"/root/autodl-tmp/APS360_Project/Machine_Learning_Output/output/CVL_rec\"\n",
    "\n",
    "# Step 1: Crop words and save them to crop_folder\n",
    "crop_words(input_folder, crop_folder)\n"
   ]
  },
  {
   "cell_type": "code",
   "execution_count": 11,
   "metadata": {},
   "outputs": [],
   "source": [
    "# Step 2: Resize cropped images and remove red boxes\n",
    "resize_and_clean_words(crop_folder)"
   ]
  },
  {
   "cell_type": "code",
   "execution_count": 3,
   "metadata": {},
   "outputs": [],
   "source": [
    "#IAM\n",
    "input_folder = \"/root/autodl-tmp/APS360_Project/Machine_Learning_Output/output/IAM\"\n",
    "crop_folder = \"/root/autodl-tmp/APS360_Project/Machine_Learning_Output/output/IAM_rec\"\n",
    "\n",
    "# Step 1: Crop words and save them to crop_folder\n",
    "crop_words(input_folder, crop_folder)\n"
   ]
  },
  {
   "cell_type": "code",
   "execution_count": 8,
   "metadata": {},
   "outputs": [],
   "source": [
    "# Step 2: Resize cropped images and remove red boxes\n",
    "resize_and_clean_words(crop_folder)"
   ]
  }
 ],
 "metadata": {
  "kernelspec": {
   "display_name": "base",
   "language": "python",
   "name": "python3"
  },
  "language_info": {
   "codemirror_mode": {
    "name": "ipython",
    "version": 3
   },
   "file_extension": ".py",
   "mimetype": "text/x-python",
   "name": "python",
   "nbconvert_exporter": "python",
   "pygments_lexer": "ipython3",
   "version": "3.12.3"
  }
 },
 "nbformat": 4,
 "nbformat_minor": 2
}
