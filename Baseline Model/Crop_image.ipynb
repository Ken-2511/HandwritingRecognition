{
 "cells": [
  {
   "cell_type": "markdown",
   "metadata": {},
   "source": [
    "# 把框选出的单词单独保存出来"
   ]
  },
  {
   "cell_type": "code",
   "execution_count": 49,
   "metadata": {},
   "outputs": [],
   "source": [
    "import cv2\n",
    "import os\n",
    "import numpy as np\n",
    "from PIL import Image, ImageOps"
   ]
  },
  {
   "cell_type": "markdown",
   "metadata": {},
   "source": [
    "# 把黑像素点变成白像素点，白像素点变成黑像素点"
   ]
  },
  {
   "cell_type": "code",
   "execution_count": 50,
   "metadata": {},
   "outputs": [],
   "source": [
    "def crop_black_background(image_path):\n",
    "    \"\"\"Crop out the black background from an image and return the processed image.\"\"\"\n",
    "    try:\n",
    "        # Open the image\n",
    "        image = Image.open(image_path)\n",
    "        \n",
    "        # Check if image has an alpha channel\n",
    "        if image.mode == 'RGBA':\n",
    "            r, g, b, a = image.split()\n",
    "            rgb_image = Image.merge('RGB', (r, g, b))\n",
    "        else:\n",
    "            rgb_image = image.convert('RGB')\n",
    "\n",
    "        # Invert the image\n",
    "        inverted_image = ImageOps.invert(rgb_image)\n",
    "        \n",
    "        # Re-add the alpha channel if it was originally present\n",
    "        if image.mode == 'RGBA':\n",
    "            r2, g2, b2 = inverted_image.split()\n",
    "            final_image = Image.merge('RGBA', (r2, g2, b2, a))\n",
    "        else:\n",
    "            final_image = inverted_image.convert('RGBA')\n",
    "        \n",
    "        return final_image\n",
    "\n",
    "    except Exception as e:\n",
    "        print(f\"Error processing image {image_path}: {e}\")\n",
    "        return None\n",
    "\n",
    "def process_images_in_folder(folder_path):\n",
    "    \"\"\"Process all images in a folder, crop out the black background, and overwrite the original images.\"\"\"\n",
    "    # List all files in the folder\n",
    "    for file_name in os.listdir(folder_path):\n",
    "        if file_name.lower().endswith(('.png', '.jpg', '.jpeg', '.bmp')):\n",
    "            # Construct full file path\n",
    "            img_path = os.path.join(folder_path, file_name)\n",
    "            \n",
    "            # Process image\n",
    "            cropped_image = crop_black_background(img_path)\n",
    "            \n",
    "            if cropped_image:\n",
    "                # Save the processed image by overwriting the original image\n",
    "                cropped_image.save(img_path)\n",
    "                print(f\"Processed and saved {img_path}\")\n",
    "            "
   ]
  },
  {
   "cell_type": "code",
   "execution_count": null,
   "metadata": {},
   "outputs": [],
   "source": [
    "folder_path = '/root/autodl-tmp/APS360_Project/Machine_Learning_Output/output/CVL'  # Path to the folder containing images\n",
    "\n",
    "# Process all images in the folder\n",
    "process_images_in_folder(folder_path)"
   ]
  },
  {
   "cell_type": "code",
   "execution_count": null,
   "metadata": {},
   "outputs": [],
   "source": [
    "folder_path = '/root/autodl-tmp/APS360_Project/Machine_Learning_Output/output/IAM'  # Path to the folder containing images\n",
    "\n",
    "# Process all images in the folder\n",
    "process_images_in_folder(folder_path)"
   ]
  },
  {
   "cell_type": "markdown",
   "metadata": {},
   "source": [
    "# 把图片截出来"
   ]
  },
  {
   "cell_type": "code",
   "execution_count": 60,
   "metadata": {},
   "outputs": [],
   "source": [
    "def extract_colored_boxes(image):\n",
    "    # Convert the image to HSV color space\n",
    "    hsv = cv2.cvtColor(image, cv2.COLOR_BGR2HSV)\n",
    "    \n",
    "    # Define the lower and upper bounds for black and white colors in HSV\n",
    "    lower_black = np.array([0, 0, 0])\n",
    "    upper_black = np.array([180, 255, 50])  # Black color range\n",
    "\n",
    "    lower_white = np.array([0, 0, 200])\n",
    "    upper_white = np.array([180, 25, 255])  # White color range\n",
    "\n",
    "    # Create masks for black and white colors\n",
    "    black_mask = cv2.inRange(hsv, lower_black, upper_black)\n",
    "    white_mask = cv2.inRange(hsv, lower_white, upper_white)\n",
    "\n",
    "    # Create a mask for pixels that are neither black nor white\n",
    "    not_black_mask = cv2.bitwise_not(black_mask)\n",
    "    not_white_mask = cv2.bitwise_not(white_mask)\n",
    "    colored_mask = cv2.bitwise_and(not_black_mask, not_white_mask)\n",
    "\n",
    "    # Find contours in the colored mask\n",
    "    contours, _ = cv2.findContours(colored_mask, cv2.RETR_EXTERNAL, cv2.CHAIN_APPROX_SIMPLE)\n",
    "    return contours, colored_mask\n",
    "\n",
    "def resize_image(image, size=(128, 128)):\n",
    "    return cv2.resize(image, size)\n",
    "\n",
    "def crop_words(input_folder, crop_folder):\n",
    "    if not os.path.exists(crop_folder):\n",
    "        os.makedirs(crop_folder)\n",
    "\n",
    "    image_files = [f for f in os.listdir(input_folder) if f.endswith(('.png', '.jpg', '.jpeg'))]\n",
    "    \n",
    "    for img_file in image_files:\n",
    "        img_path = os.path.join(input_folder, img_file)\n",
    "        image = cv2.imread(img_path)\n",
    "        \n",
    "        contours, _ = extract_colored_boxes(image)\n",
    "        \n",
    "        # Create a subfolder for each image\n",
    "        img_subfolder = os.path.join(crop_folder, os.path.splitext(img_file)[0])\n",
    "        if not os.path.exists(img_subfolder):\n",
    "            os.makedirs(img_subfolder)\n",
    "        \n",
    "        for i, cnt in enumerate(contours):\n",
    "            x, y, w, h = cv2.boundingRect(cnt)\n",
    "            word_crop = image[y:y+h, x:x+w]\n",
    "            \n",
    "            # Save cropped image with a unique name within the subfolder\n",
    "            crop_path = os.path.join(img_subfolder, f\"word_{i}.png\")\n",
    "            cv2.imwrite(crop_path, word_crop)\n",
    "\n",
    "def resize_and_clean_words(crop_folder):\n",
    "    if not os.path.exists(crop_folder):\n",
    "        raise ValueError(f\"The folder '{crop_folder}' does not exist.\")\n",
    "\n",
    "    for root, dirs, files in os.walk(crop_folder):\n",
    "        for img_file in files:\n",
    "            if img_file.endswith(('.png', '.jpg', '.jpeg')):\n",
    "                img_path = os.path.join(root, img_file)\n",
    "                image = cv2.imread(img_path)\n",
    "                \n",
    "                # Resize the image\n",
    "                resized_image = resize_image(image)\n",
    "                \n",
    "                # Save the resized image (overwrite the original cropped image)\n",
    "                cv2.imwrite(img_path, resized_image)"
   ]
  },
  {
   "cell_type": "code",
   "execution_count": 65,
   "metadata": {},
   "outputs": [],
   "source": [
    "#CVL\n",
    "input_folder = \"/root/autodl-tmp/APS360_Project/Machine_Learning_Output/output/CVL\"\n",
    "crop_folder = \"/root/autodl-tmp/APS360_Project/Machine_Learning_Output/output/CVL_rec\"\n",
    "\n",
    "# Step 1: Crop words and save them to crop_folder\n",
    "crop_words(input_folder, crop_folder)\n"
   ]
  },
  {
   "cell_type": "code",
   "execution_count": 66,
   "metadata": {},
   "outputs": [],
   "source": [
    "# Step 2: Resize cropped images and remove red boxes\n",
    "resize_and_clean_words(crop_folder)"
   ]
  },
  {
   "cell_type": "code",
   "execution_count": 67,
   "metadata": {},
   "outputs": [],
   "source": [
    "#IAM\n",
    "input_folder = \"/root/autodl-tmp/APS360_Project/Machine_Learning_Output/output/IAM\"\n",
    "crop_folder = \"/root/autodl-tmp/APS360_Project/Machine_Learning_Output/output/IAM_rec\"\n",
    "\n",
    "# Step 1: Crop words and save them to crop_folder\n",
    "crop_words(input_folder, crop_folder)\n"
   ]
  },
  {
   "cell_type": "code",
   "execution_count": 68,
   "metadata": {},
   "outputs": [],
   "source": [
    "# Step 2: Resize cropped images and remove red boxes\n",
    "resize_and_clean_words(crop_folder)"
   ]
  }
 ],
 "metadata": {
  "kernelspec": {
   "display_name": "base",
   "language": "python",
   "name": "python3"
  },
  "language_info": {
   "codemirror_mode": {
    "name": "ipython",
    "version": 3
   },
   "file_extension": ".py",
   "mimetype": "text/x-python",
   "name": "python",
   "nbconvert_exporter": "python",
   "pygments_lexer": "ipython3",
   "version": "3.12.3"
  }
 },
 "nbformat": 4,
 "nbformat_minor": 2
}
