{
 "cells": [
  {
   "cell_type": "code",
   "execution_count": 2,
   "metadata": {},
   "outputs": [],
   "source": [
    "import torch\n",
    "from torch import nn\n",
    "from utils import RecDataset\n",
    "from torch.utils.data import DataLoader"
   ]
  },
  {
   "cell_type": "code",
   "execution_count": 3,
   "metadata": {},
   "outputs": [],
   "source": [
    "rec_dataset = RecDataset('CVL', 'train')\n",
    "dataloader = DataLoader(rec_dataset, batch_size=1, shuffle=True)"
   ]
  },
  {
   "cell_type": "code",
   "execution_count": 4,
   "metadata": {},
   "outputs": [
    {
     "name": "stdout",
     "output_type": "stream",
     "text": [
      "torch.Size([1, 1, 128, 128])\n",
      "torch.Size([1, 64, 128])\n"
     ]
    }
   ],
   "source": [
    "for data, label in dataloader:\n",
    "    print(data.shape)\n",
    "    print(label.shape)\n",
    "    break"
   ]
  },
  {
   "cell_type": "code",
   "execution_count": 5,
   "metadata": {},
   "outputs": [
    {
     "name": "stdout",
     "output_type": "stream",
     "text": [
      "CNN(\n",
      "  (conv1): Conv2d(1, 32, kernel_size=(3, 3), stride=(1, 1), padding=(1, 1))\n",
      "  (conv2): Conv2d(32, 64, kernel_size=(3, 3), stride=(1, 1), padding=(1, 1))\n",
      "  (conv3): Conv2d(64, 128, kernel_size=(3, 3), stride=(1, 1), padding=(1, 1))\n",
      "  (conv4): Conv2d(128, 256, kernel_size=(3, 3), stride=(1, 1), padding=(1, 1))\n",
      "  (conv5): Conv2d(256, 512, kernel_size=(3, 3), stride=(1, 1), padding=(1, 1))\n",
      "  (pool): MaxPool2d(kernel_size=2, stride=2, padding=0, dilation=1, ceil_mode=False)\n",
      "  (relu): ReLU()\n",
      "  (adaptive_pool): AdaptiveAvgPool2d(output_size=(1, 1))\n",
      ")\n"
     ]
    }
   ],
   "source": [
    "class CNN(nn.Module):\n",
    "    def __init__(self):\n",
    "        super(CNN, self).__init__()\n",
    "        # input size: 1x128x128\n",
    "        self.conv1 = nn.Conv2d(1, 32, 3, padding=1)\n",
    "        self.conv2 = nn.Conv2d(32, 64, 3, padding=1)\n",
    "        self.conv3 = nn.Conv2d(64, 128, 3, padding=1)\n",
    "        self.conv4 = nn.Conv2d(128, 256, 3, padding=1)\n",
    "        self.conv5 = nn.Conv2d(256, 512, 3, padding=1)\n",
    "        self.pool = nn.MaxPool2d(2, 2)\n",
    "        self.relu = nn.ReLU()\n",
    "        self.adaptive_pool = nn.AdaptiveAvgPool2d((1, 1))\n",
    "    \n",
    "    def forward(self, x):\n",
    "        x = self.pool(self.relu(self.conv1(x)))    # 32x64x64\n",
    "        x = self.pool(self.relu(self.conv2(x)))    # 64x32x32\n",
    "        x = self.pool(self.relu(self.conv3(x)))    # 128x16x16\n",
    "        x = self.pool(self.relu(self.conv4(x)))    # 256x8x8\n",
    "        x = self.pool(self.relu(self.conv5(x)))    # 512x4x4\n",
    "        x = self.adaptive_pool(x)                  # 512x1x1\n",
    "        x = x.view(x.size(0), -1)\n",
    "        return x\n",
    "\n",
    "cnn = CNN()\n",
    "print(cnn)"
   ]
  },
  {
   "cell_type": "code",
   "execution_count": 9,
   "metadata": {},
   "outputs": [
    {
     "name": "stdout",
     "output_type": "stream",
     "text": [
      "torch.Size([1, 512])\n"
     ]
    }
   ],
   "source": [
    "lstm = nn.LSTM(512, 256, 2, batch_first=True)\n",
    "\n",
    "data = torch.randn(1, 1, 128, 128)\n",
    "output = cnn(data)\n",
    "print(output.shape)\n",
    "output = output.view(1, 1, 512)\n",
    "output, _ = lstm(output)"
   ]
  },
  {
   "cell_type": "code",
   "execution_count": 1,
   "metadata": {},
   "outputs": [
    {
     "name": "stdout",
     "output_type": "stream",
     "text": [
      "Embeddings: tensor([[-1.8311,  1.2062,  0.1030],\n",
      "        [-0.0183, -1.5122,  0.4178],\n",
      "        [ 1.3398,  0.9618,  0.6971],\n",
      "        [ 1.5470,  0.3003, -1.1612]], grad_fn=<EmbeddingBackward0>)\n",
      "Output from FC layer: tensor([[0.1274, 0.2353]], grad_fn=<AddmmBackward0>)\n"
     ]
    }
   ],
   "source": [
    "import torch\n",
    "import torch.nn as nn\n",
    "\n",
    "# 嵌入层示例\n",
    "vocab_size = 10  # 假设我们有10个不同的单词\n",
    "embedding_dim = 3  # 每个单词映射到一个3维向量\n",
    "embedding_layer = nn.Embedding(vocab_size, embedding_dim)\n",
    "\n",
    "# 假设输入是单词索引的列表\n",
    "word_indices = torch.tensor([0, 2, 4, 8], dtype=torch.long)  # 单词索引\n",
    "embeddings = embedding_layer(word_indices)  # 通过嵌入层获取向量\n",
    "print(\"Embeddings:\", embeddings)\n",
    "\n",
    "# 全连接层示例\n",
    "input_dim = 3  # 输入维度\n",
    "output_dim = 2  # 输出维度\n",
    "fc_layer = nn.Linear(input_dim, output_dim)\n",
    "\n",
    "# 假设输入是一个3维向量\n",
    "input_vector = torch.randn(1, input_dim)  # 随机生成输入\n",
    "output_vector = fc_layer(input_vector)  # 通过全连接层得到输出\n",
    "print(\"Output from FC layer:\", output_vector)"
   ]
  }
 ],
 "metadata": {
  "kernelspec": {
   "display_name": "base",
   "language": "python",
   "name": "python3"
  },
  "language_info": {
   "codemirror_mode": {
    "name": "ipython",
    "version": 3
   },
   "file_extension": ".py",
   "mimetype": "text/x-python",
   "name": "python",
   "nbconvert_exporter": "python",
   "pygments_lexer": "ipython3",
   "version": "3.12.3"
  }
 },
 "nbformat": 4,
 "nbformat_minor": 2
}
