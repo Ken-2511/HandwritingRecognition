{
 "cells": [
  {
   "cell_type": "markdown",
   "metadata": {},
   "source": [
    "这个文件用来训练Segmentation模型"
   ]
  },
  {
   "cell_type": "code",
   "execution_count": 1,
   "metadata": {},
   "outputs": [],
   "source": [
    "import torch\n",
    "from torch import nn\n",
    "import torchvision\n",
    "import torchvision.transforms as transforms\n",
    "from torch.utils.data import DataLoader\n",
    "from torch import optim\n",
    "from utils import *"
   ]
  },
  {
   "cell_type": "code",
   "execution_count": 2,
   "metadata": {},
   "outputs": [
    {
     "name": "stderr",
     "output_type": "stream",
     "text": [
      "/root/miniconda3/lib/python3.12/site-packages/torchvision/models/_utils.py:208: UserWarning: The parameter 'pretrained' is deprecated since 0.13 and may be removed in the future, please use 'weights' instead.\n",
      "  warnings.warn(\n",
      "/root/miniconda3/lib/python3.12/site-packages/torchvision/models/_utils.py:223: UserWarning: Arguments other than a weight enum or `None` for 'weights' are deprecated since 0.13 and may be removed in the future. The current behavior is equivalent to passing `weights=None`.\n",
      "  warnings.warn(msg)\n"
     ]
    }
   ],
   "source": [
    "# 加载预训练的Faster R-CNN模型\n",
    "model = torchvision.models.detection.fasterrcnn_resnet50_fpn(pretrained=False)\n",
    "\n",
    "# 获取分类器的输入特征数\n",
    "in_features = model.roi_heads.box_predictor.cls_score.in_features\n",
    "\n",
    "# 替换预训练的头部为一个新的，只有两个类别（背景和单词）\n",
    "model.roi_heads.box_predictor = torchvision.models.detection.faster_rcnn.FastRCNNPredictor(in_features, num_classes=2)"
   ]
  },
  {
   "cell_type": "code",
   "execution_count": 3,
   "metadata": {},
   "outputs": [],
   "source": [
    "class ModifiedDataset(torch.utils.data.Dataset):\n",
    "    def __init__(self, dataset):\n",
    "        self.dataset = dataset\n",
    "        self.trans = transforms.Normalize(mean=(0.5), std=(0.5))\n",
    "\n",
    "    def __len__(self):\n",
    "        return len(self.dataset)\n",
    "\n",
    "    def __getitem__(self, idx):\n",
    "        img, label = self.dataset[idx]\n",
    "        img -= img.mean()\n",
    "        img /= img.std()\n",
    "        # img = self.trans(img)\n",
    "\n",
    "        # 将 (x, y, w, h) 格式的边界框转换为 (x1, y1, x2, y2) 格式\n",
    "        label[:, 2] = label[:, 0] + label[:, 2]\n",
    "        label[:, 3] = label[:, 1] + label[:, 3]\n",
    "\n",
    "        # 仅保留包含单词的边界框\n",
    "        indices = label.sum(dim=-1) > 0\n",
    "        label = label[indices]\n",
    "\n",
    "        # 制造classifier的标签\n",
    "        temp = torch.ones(len(label), dtype=torch.long)\n",
    "        label = {'boxes': label, 'labels': temp}\n",
    "        \n",
    "        return img, label\n",
    "\n",
    "\n",
    "from torch.utils.data.dataloader import default_collate\n",
    "\n",
    "def collate_fn(batch):\n",
    "    images = [item[0] for item in batch]\n",
    "    targets = [item[1] for item in batch]\n",
    "\n",
    "    # 使用默认的 collate 处理图片（因为图片大小相同）\n",
    "    images = default_collate(images)\n",
    "    \n",
    "    # 不尝试合并 targets，因为它们包含不同数量的边界框\n",
    "    # 直接作为列表返回\n",
    "    return images, targets"
   ]
  },
  {
   "cell_type": "code",
   "execution_count": 4,
   "metadata": {},
   "outputs": [],
   "source": [
    "dataset = ModifiedDataset(SegDataset('IAM', 'train'))\n",
    "dataloader = DataLoader(dataset, batch_size=16, shuffle=True, num_workers=0, collate_fn=collate_fn)"
   ]
  },
  {
   "cell_type": "code",
   "execution_count": 5,
   "metadata": {},
   "outputs": [],
   "source": [
    "device = torch.device('cuda') if torch.cuda.is_available() else torch.device('cpu')\n",
    "model.to(device)\n",
    "\n",
    "# 优化器\n",
    "optimizer = optim.SGD(model.parameters(), lr=0.001, momentum=0.9, weight_decay=0.0005)\n",
    "\n",
    "# 训练模式\n",
    "model.train()\n",
    "\n",
    "num_epochs = 10\n",
    "\n",
    "for epoch in range(num_epochs):\n",
    "    for step, (images, targets) in enumerate(dataloader):\n",
    "        images = list(image.to(device) for image in images)\n",
    "        targets = [{k: v.to(device) for k, v in t.items()} for t in targets]\n",
    "        # print(\"images:\\n\", images)\n",
    "        # print(\"targets:\\n\", targets)\n",
    "\n",
    "        # 计算损失\n",
    "        loss_dict = model(images, targets)\n",
    "        # print(\"loss_dict:\\n\", loss_dict)\n",
    "        losses = sum(loss for loss in loss_dict.values())\n",
    "\n",
    "        # 反向传播\n",
    "        optimizer.zero_grad()\n",
    "        losses.backward()\n",
    "        optimizer.step()\n",
    "\n",
    "        print(f\"Epoch {epoch} step {step} loss: {losses.item()}\")\n",
    "    print(f\"Epoch {epoch} loss: {losses.item()}\")"
   ]
  }
 ],
 "metadata": {
  "kernelspec": {
   "display_name": "base",
   "language": "python",
   "name": "python3"
  },
  "language_info": {
   "codemirror_mode": {
    "name": "ipython",
    "version": 3
   },
   "file_extension": ".py",
   "mimetype": "text/x-python",
   "name": "python",
   "nbconvert_exporter": "python",
   "pygments_lexer": "ipython3",
   "version": "3.12.3"
  }
 },
 "nbformat": 4,
 "nbformat_minor": 2
}
